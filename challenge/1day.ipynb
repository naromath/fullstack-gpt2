{
 "cells": [
  {
   "cell_type": "code",
   "execution_count": 13,
   "metadata": {},
   "outputs": [],
   "source": [
    "from langchain.chat_models import ChatOpenAI\n",
    "from langchain.prompts import ChatPromptTemplate\n",
    "from langchain.callbacks import StreamingStdOutCallbackHandler"
   ]
  },
  {
   "cell_type": "code",
   "execution_count": 14,
   "metadata": {},
   "outputs": [],
   "source": [
    "chat = ChatOpenAI(\n",
    "    model_name=\"gpt-4o-mini\",\n",
    "    streaming=True,\n",
    "    callbacks=[StreamingStdOutCallbackHandler()],\n",
    "    temperature=0.1,\n",
    ")"
   ]
  },
  {
   "cell_type": "code",
   "execution_count": 15,
   "metadata": {},
   "outputs": [],
   "source": [
    "poet_prompt = ChatPromptTemplate.from_messages(\n",
    "    [\n",
    "        (\n",
    "            \"system\", \n",
    "            \"You are the greatest haiku poet in the world. Please write a beautiful poem for me. Make sure the poem is written in Korean.\"\n",
    "        ),\n",
    "        (\n",
    "            \"human\",\n",
    "            \"I want a poem about {program_lang}\",\n",
    "        ),\n",
    "    ]\n",
    ")"
   ]
  },
  {
   "cell_type": "code",
   "execution_count": 16,
   "metadata": {},
   "outputs": [],
   "source": [
    "poet_chain = poet_prompt | chat"
   ]
  },
  {
   "cell_type": "code",
   "execution_count": 26,
   "metadata": {},
   "outputs": [
    {
     "name": "stdout",
     "output_type": "stream",
     "text": [
      "파이썬의 길  \n",
      "코드 속에 숨은 꿈  \n",
      "자유의 흐름  "
     ]
    }
   ],
   "source": [
    "literary_work = poet_chain.invoke({\"program_lang\": \"python\"})"
   ]
  },
  {
   "cell_type": "code",
   "execution_count": 22,
   "metadata": {},
   "outputs": [],
   "source": [
    "critic_prompt = ChatPromptTemplate.from_messages(\n",
    "    [\n",
    "        (\n",
    "            \"system\",\n",
    "            \"You are the greatest literary critic of this era. Please read the provided literary work and give an explanation of it in Korean.\"\n",
    "        ),\n",
    "        (\n",
    "            \"human\",\n",
    "            \"{literary_work}\"\n",
    "        ),\n",
    "    ]\n",
    ")"
   ]
  },
  {
   "cell_type": "code",
   "execution_count": 23,
   "metadata": {},
   "outputs": [],
   "source": [
    "critic_chain = critic_prompt | chat"
   ]
  },
  {
   "cell_type": "code",
   "execution_count": 24,
   "metadata": {},
   "outputs": [],
   "source": [
    "final_chain = {\"literary_work\" : poet_chain} | critic_chain"
   ]
  },
  {
   "cell_type": "code",
   "execution_count": 25,
   "metadata": {},
   "outputs": [
    {
     "name": "stdout",
     "output_type": "stream",
     "text": [
      "파이썬의 길  \n",
      "코드 속에 숨은 꿈,  \n",
      "자유의 춤.  이 작품은 \"파이썬의 길\"이라는 제목을 통해 프로그래밍 언어인 파이썬을 주제로 하고 있습니다. 첫 번째 줄 \"코드 속에 숨은 꿈\"은 코드 작성이 단순한 명령어의 나열이 아니라, 그 안에 창의성과 상상력이 담겨 있다는 것을 암시합니다. 즉, 프로그래밍을 통해 이루고자 하는 목표나 비전이 존재한다는 의미입니다.\n",
      "\n",
      "두 번째 줄 \"자유의 춤\"은 파이썬이 제공하는 유연성과 자유로운 표현 방식을 강조합니다. 파이썬은 배우기 쉽고 다양한 분야에 활용될 수 있는 언어로, 이를 통해 개발자들이 자신의 아이디어를 자유롭게 구현할 수 있음을 나타냅니다.\n",
      "\n",
      "전체적으로 이 작품은 프로그래밍의 예술적 측면과 창의성을 강조하며, 파이썬이라는 언어가 개인의 꿈과 자유로운 표현을 가능하게 하는 도구임을 표현하고 있습니다."
     ]
    },
    {
     "data": {
      "text/plain": [
       "AIMessageChunk(content='이 작품은 \"파이썬의 길\"이라는 제목을 통해 프로그래밍 언어인 파이썬을 주제로 하고 있습니다. 첫 번째 줄 \"코드 속에 숨은 꿈\"은 코드 작성이 단순한 명령어의 나열이 아니라, 그 안에 창의성과 상상력이 담겨 있다는 것을 암시합니다. 즉, 프로그래밍을 통해 이루고자 하는 목표나 비전이 존재한다는 의미입니다.\\n\\n두 번째 줄 \"자유의 춤\"은 파이썬이 제공하는 유연성과 자유로운 표현 방식을 강조합니다. 파이썬은 배우기 쉽고 다양한 분야에 활용될 수 있는 언어로, 이를 통해 개발자들이 자신의 아이디어를 자유롭게 구현할 수 있음을 나타냅니다.\\n\\n전체적으로 이 작품은 프로그래밍의 예술적 측면과 창의성을 강조하며, 파이썬이라는 언어가 개인의 꿈과 자유로운 표현을 가능하게 하는 도구임을 표현하고 있습니다.')"
      ]
     },
     "execution_count": 25,
     "metadata": {},
     "output_type": "execute_result"
    }
   ],
   "source": [
    "final_chain.invoke({\"program_lang\" : \"python\"})"
   ]
  },
  {
   "cell_type": "code",
   "execution_count": null,
   "metadata": {},
   "outputs": [],
   "source": []
  }
 ],
 "metadata": {
  "kernelspec": {
   "display_name": "env",
   "language": "python",
   "name": "python3"
  },
  "language_info": {
   "codemirror_mode": {
    "name": "ipython",
    "version": 3
   },
   "file_extension": ".py",
   "mimetype": "text/x-python",
   "name": "python",
   "nbconvert_exporter": "python",
   "pygments_lexer": "ipython3",
   "version": "3.11.9"
  }
 },
 "nbformat": 4,
 "nbformat_minor": 2
}
