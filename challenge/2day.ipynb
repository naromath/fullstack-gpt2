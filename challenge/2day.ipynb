{
 "cells": [
  {
   "cell_type": "markdown",
   "metadata": {},
   "source": [
    "\n",
    "1. 영화 이름을 가지고 감독, 주요 출연진, 예산, 흥행 수익, 영화의 장르, 간단한 시놉시스 등 영화에 대한 정보로 답장하는 체인을 만드세요.\n",
    "2. LLM은 항상 동일한 형식을 사용하여 응답해야 하며, 이를 위해서는 원하는 출력의 예시를 LLM에 제공해야 합니다.\n",
    "3. 예제를 제공하려면 FewShotPromptTemplate 또는 FewShotChatMessagePromptTemplate을 사용하세요."
   ]
  },
  {
   "cell_type": "code",
   "execution_count": 29,
   "metadata": {},
   "outputs": [],
   "source": [
    "from langchain.chat_models import ChatOpenAI\n",
    "from langchain.prompts import ChatPromptTemplate\n",
    "from langchain.prompts.few_shot import FewShotPromptTemplate, FewShotChatMessagePromptTemplate\n",
    "from langchain.callbacks import StreamingStdOutCallbackHandler\n",
    "from langchain.callbacks import get_openai_callback"
   ]
  },
  {
   "cell_type": "code",
   "execution_count": 30,
   "metadata": {},
   "outputs": [],
   "source": [
    "chat = ChatOpenAI(\n",
    "    model=\"gpt-4o-mini\",\n",
    "    streaming=True,\n",
    "    callbacks=[StreamingStdOutCallbackHandler()],\n",
    "    temperature=0.1,\n",
    ")"
   ]
  },
  {
   "cell_type": "code",
   "execution_count": 31,
   "metadata": {},
   "outputs": [
    {
     "name": "stdout",
     "output_type": "stream",
     "text": [
      "영화 **기생충**(Parasite)은 2019년에 개봉한 한국 영화로, 봉준호 감독이 연출하였습니다. \n",
      "\n",
      "### 감독\n",
      "- **봉준호** (Bong Joon-ho)\n",
      "\n",
      "### 주요 출연진\n",
      "- **송강호** (Kim Ki-taek)\n",
      "- **이선균** (Park Dong-ik)\n",
      "- **조여정** (Yeon-kyo)\n",
      "- **최우식** (Ki-woo)\n",
      "- **박소담** (Ki-jung)\n",
      "- **장혜진** (Moon-gwang)\n",
      "- **이정은** (Geun-sae)\n",
      "\n",
      "### 예산\n",
      "- 약 **150억 원** (약 1300만 달러)\n",
      "\n",
      "### 흥행 수익\n",
      "- 전 세계적으로 약 **1,300억 원** (약 1억 1천만 달러) 이상의 수익을 올렸습니다.\n",
      "\n",
      "### 영화 장르\n",
      "- 드라마, 스릴러, 블랙 코미디\n",
      "\n",
      "### 간단한 시놉시스\n",
      "기생충은 가난한 가족인 김씨 가족이 부유한 박씨 가족의 집에 침투하면서 벌어지는 이야기를 다룹니다. 김씨 가족은 각자의 역할을 맡아 박씨 가족의 집에서 일하게 되며, 점차 그들의 삶에 깊숙이 개입하게 됩니다. 그러나 이들의 관계는 예상치 못한 사건으로 인해 급변하게 되고, 사회적 계층과 갈등을 심도 있게 탐구하는 내용입니다. 이 영화는 사회적 비판과 함께 긴장감 넘치는 전개로 많은 찬사를 받았습니다. \n",
      "\n",
      "기생충은 2020년 아카데미 시상식에서 작품상, 감독상, 국제 장편 영화상 등 4개 부문에서 수상하며 큰 화제를 모았습니다."
     ]
    },
    {
     "data": {
      "text/plain": [
       "'영화 **기생충**(Parasite)은 2019년에 개봉한 한국 영화로, 봉준호 감독이 연출하였습니다. \\n\\n### 감독\\n- **봉준호** (Bong Joon-ho)\\n\\n### 주요 출연진\\n- **송강호** (Kim Ki-taek)\\n- **이선균** (Park Dong-ik)\\n- **조여정** (Yeon-kyo)\\n- **최우식** (Ki-woo)\\n- **박소담** (Ki-jung)\\n- **장혜진** (Moon-gwang)\\n- **이정은** (Geun-sae)\\n\\n### 예산\\n- 약 **150억 원** (약 1300만 달러)\\n\\n### 흥행 수익\\n- 전 세계적으로 약 **1,300억 원** (약 1억 1천만 달러) 이상의 수익을 올렸습니다.\\n\\n### 영화 장르\\n- 드라마, 스릴러, 블랙 코미디\\n\\n### 간단한 시놉시스\\n기생충은 가난한 가족인 김씨 가족이 부유한 박씨 가족의 집에 침투하면서 벌어지는 이야기를 다룹니다. 김씨 가족은 각자의 역할을 맡아 박씨 가족의 집에서 일하게 되며, 점차 그들의 삶에 깊숙이 개입하게 됩니다. 그러나 이들의 관계는 예상치 못한 사건으로 인해 급변하게 되고, 사회적 계층과 갈등을 심도 있게 탐구하는 내용입니다. 이 영화는 사회적 비판과 함께 긴장감 넘치는 전개로 많은 찬사를 받았습니다. \\n\\n기생충은 2020년 아카데미 시상식에서 작품상, 감독상, 국제 장편 영화상 등 4개 부문에서 수상하며 큰 화제를 모았습니다.'"
      ]
     },
     "execution_count": 31,
     "metadata": {},
     "output_type": "execute_result"
    }
   ],
   "source": [
    "chat.predict(\"영화 기생충 의 감독, 주요 출연진, 예산, 흥행 수익, 영화장르 및 간단한 시놉시스를 알려줘\")"
   ]
  },
  {
   "cell_type": "code",
   "execution_count": 48,
   "metadata": {},
   "outputs": [],
   "source": [
    "examples = [\n",
    "    {\n",
    "                  \n",
    "        \"movie\" : \"**기생충**(Parasite)은 2019년에 개봉한 한국 영화로, 봉준호 감독이 연출하였습니다.\",\n",
    "\n",
    "        \"answer\" : \"\"\"\n",
    "        1. 감독\n",
    "        - 봉준호 (Bong Joon-ho)\n",
    "\n",
    "        2. 주요 출연진\n",
    "        - 송강호 (Song Kang-ho) - 기택 역\n",
    "        - 이선균 (Lee Sun-kyun) - 박사장 역\n",
    "        - 조여정 (Cho Yeo-jeong) - 연교 역\n",
    "        - 최우식 (Choi Woo-shik) - 기우 역\n",
    "        - 박소담 (Park So-dam) - 기정 역\n",
    "\n",
    "        3. 예산\n",
    "        - 약 150억 원(약 1300만 달러)\n",
    "\n",
    "        4. 흥행 수익\n",
    "        - 전 세계적으로 약 1,200억 원(약 1억 달러) 이상의 수익을 올렸습니다.\n",
    "\n",
    "        5.영화 장르\n",
    "        - 드라마, 스릴러, 블랙 코미디\n",
    "\n",
    "        6. 간단한 시놉시스\n",
    "        \"기생충\"은 경제적 어려움을 겪고 있는 기택 가족이 부유한 박사장 가족의 집에 침투하면서 벌어지는 이야기를 다룹니다. 기택의 아들 기우는 박사장 가족의 과외 선생님으로 위장하고, 가족 모두가 각자의 역할을 맡아 박사장 가족의 삶에 스며들게 됩니다. 그러나 이들의 계획은 예상치 못한 사건으로 인해 점차 비극적인 방향으로 흘러가게 됩니다. 이 영화는 사회적 계층과 불평등을 날카롭게 비판하며, 긴장감 넘치는 전개와 반전으로 관객을 사로잡습니다.\n",
    "        \"\"\"\n",
    "    }\n",
    "]"
   ]
  },
  {
   "cell_type": "code",
   "execution_count": 70,
   "metadata": {},
   "outputs": [],
   "source": [
    "examples = [\n",
    "    {\n",
    "        \"movie\": \"Parasite\",\n",
    "        \"answer\": \"\"\"\n",
    "        영화 **기생충**(Parasite)은 2019년에 개봉한 한국 영화로, 봉준호 감독이 연출하였습니다.\n",
    "\n",
    "        ### 감독\n",
    "        - **봉준호** (Bong Joon-ho)\n",
    "\n",
    "        ### 주요 출연진\n",
    "        - **송강호** (Kim Ki-taek)\n",
    "        - **이선균** (Park Dong-ik)\n",
    "        - **조여정** (Yeon-kyo)\n",
    "        - **최우식** (Ki-woo)\n",
    "        - **박소담** (Ki-jung)\n",
    "        - **장혜진** (Moon-gwang)\n",
    "        - **이정은** (Geun-sae)\n",
    "\n",
    "        ### 예산\n",
    "        - 약 **150억 원** (약 1300만 달러)\n",
    "\n",
    "        ### 흥행 수익\n",
    "        - 전 세계적으로 약 **1,300억 원** (약 1억 1천만 달러) 이상의 수익을 올렸습니다.\n",
    "\n",
    "        ### 영화 장르\n",
    "        - 드라마, 스릴러, 블랙 코미디\n",
    "\n",
    "        ### 간단한 시놉시스\n",
    "        기생충은 가난한 가족인 김씨 가족이 부유한 박씨 가족의 집에 침투하면서 벌어지는 이야기를 다룹니다. \n",
    "        김씨 가족은 각자의 역할을 맡아 박씨 가족의 집에서 일하게 되며, 점차 그들의 삶에 깊숙이 개입하게 됩니다.\n",
    "        그러나 이들의 관계는 예상치 못한 사건으로 인해 급변하게 되고, 사회적 계층과 갈등을 심도 있게 탐구하는 내용입니다. \n",
    "        이 영화는 사회적 비판과 함께 긴장감 넘치는 전개로 많은 찬사를 받았습니다.\n",
    "\n",
    "        기생충은 2020년 아카데미 시상식에서 작품상, 감독상, 국제 장편 영화상 등 4개 부문에서 수상하며 큰 화제를 모았습니다.\n",
    "        \"\"\"\n",
    "    },\n",
    "    {\n",
    "        \"movie\": \"Inception\",\n",
    "        \"answer\": \"\"\"\n",
    "        영화 **인셉션**(Inception)은 2010년에 개봉한 미국 영화로, 크리스토퍼 놀란 감독이 연출하였습니다.\n",
    "\n",
    "        ### 감독\n",
    "        - **크리스토퍼 놀란** (Christopher Nolan)\n",
    "\n",
    "        ### 주요 출연진\n",
    "        - **레오나르도 디카프리오** (Dom Cobb)\n",
    "        - **조셉 고든-레빗** (Arthur)\n",
    "        - **엘렌 페이지** (Ariadne)\n",
    "        - **톰 하디** (Eames)\n",
    "\n",
    "        ### 예산\n",
    "        - 약 **1억 6천만 달러**\n",
    "\n",
    "        ### 흥행 수익\n",
    "        - 전 세계적으로 약 **8억 3천만 달러** 이상의 수익을 올렸습니다.\n",
    "\n",
    "        ### 영화 장르\n",
    "        - 액션, SF, 스릴러\n",
    "\n",
    "        ### 간단한 시놉시스\n",
    "        인셉션은 꿈의 세계를 배경으로 한 독특한 SF 영화입니다. 도둑인 돔 코브는 꿈을 통해 기업 비밀을 훔치는 전문가로, \n",
    "        자신의 과거를 정리하기 위해 마지막 임무를 맡게 됩니다. 이 임무는 '인셉션'(생각 심기)으로, 특정 아이디어를 목표 대상의 \n",
    "        잠재의식에 심는 것을 뜻합니다. 영화는 복잡한 꿈의 구조와 긴장감 넘치는 액션으로 관객의 사랑을 받았습니다.\n",
    "        \"\"\"\n",
    "    },\n",
    "]"
   ]
  },
  {
   "cell_type": "code",
   "execution_count": 71,
   "metadata": {},
   "outputs": [],
   "source": [
    "example_prompt = ChatPromptTemplate.from_messages(\n",
    "    [\n",
    "        (\"human\", \"무슨 영화에 대해서 알고 싶나요? {movie}\"),\n",
    "        (\"ai\", \"{answer}\"),\n",
    "    ]\n",
    ")"
   ]
  },
  {
   "cell_type": "code",
   "execution_count": 72,
   "metadata": {},
   "outputs": [],
   "source": [
    "example_prompt = FewShotChatMessagePromptTemplate(\n",
    "    example_prompt=example_prompt,\n",
    "    examples=examples,\n",
    ")"
   ]
  },
  {
   "cell_type": "code",
   "execution_count": 73,
   "metadata": {},
   "outputs": [],
   "source": [
    "final_prompt = ChatPromptTemplate.from_messages(\n",
    "    [\n",
    "        (\"system\", \"Please respond in Korean.\"), # 시스템 메시지\n",
    "        example_prompt,\n",
    "        (\"human\", \"무슨 영화에 대해서 알고 싶나요? {movie}\"),\n",
    "    ]\n",
    ")"
   ]
  },
  {
   "cell_type": "code",
   "execution_count": 74,
   "metadata": {},
   "outputs": [],
   "source": [
    "chain = final_prompt | chat\n",
    "\n"
   ]
  },
  {
   "cell_type": "code",
   "execution_count": 75,
   "metadata": {},
   "outputs": [
    {
     "name": "stdout",
     "output_type": "stream",
     "text": [
      "영화 **기생충**(Parasite)은 2019년에 개봉한 한국 영화로, 봉준호 감독이 연출하였습니다. 이 영화는 사회적 계층과 빈부 격차를 다룬 블랙 코미디 드라마로, 전 세계적으로 큰 인기를 끌었습니다.\n",
      "\n",
      "### 감독\n",
      "- **봉준호** (Bong Joon-ho)\n",
      "\n",
      "### 주요 출연진\n",
      "- **송강호** (김기택)\n",
      "- **이선균** (박동익)\n",
      "- **조여정** (연교)\n",
      "- **최우식** (기우)\n",
      "- **박소담** (기정)\n",
      "- **장혜진** (문광)\n",
      "\n",
      "### 예산\n",
      "- 약 **150억 원** (약 1300만 달러)\n",
      "\n",
      "### 흥행 수익\n",
      "- 전 세계적으로 약 **1,300억 원** (약 1억 1천만 달러) 이상의 수익을 올렸습니다.\n",
      "\n",
      "### 영화 장르\n",
      "- 드라마, 스릴러, 블랙 코미디\n",
      "\n",
      "### 간단한 시놉시스\n",
      "기생충은 가난한 김씨 가족이 부유한 박씨 가족의 집에 침투하면서 벌어지는 이야기를 다룹니다. 김씨 가족은 각자의 역할을 맡아 박씨 가족의 집에서 일하게 되며, 점차 그들의 삶에 깊숙이 개입하게 됩니다. 그러나 이들의 관계는 예상치 못한 사건으로 인해 급변하게 되고, 사회적 계층과 갈등을 심도 있게 탐구하는 내용입니다.\n",
      "\n",
      "### 수상 경력\n",
      "기생충은 2020년 아카데미 시상식에서 작품상, 감독상, 국제 장편 영화상 등 4개 부문에서 수상하며 큰 화제를 모았습니다. 이로 인해 한국 영화의 위상을 높이는 데 기여했습니다. \n",
      "\n",
      "이 영화는 뛰어난 스토리와 연출, 그리고 사회적 메시지로 많은 찬사를 받았습니다."
     ]
    },
    {
     "data": {
      "text/plain": [
       "AIMessageChunk(content='영화 **기생충**(Parasite)은 2019년에 개봉한 한국 영화로, 봉준호 감독이 연출하였습니다. 이 영화는 사회적 계층과 빈부 격차를 다룬 블랙 코미디 드라마로, 전 세계적으로 큰 인기를 끌었습니다.\\n\\n### 감독\\n- **봉준호** (Bong Joon-ho)\\n\\n### 주요 출연진\\n- **송강호** (김기택)\\n- **이선균** (박동익)\\n- **조여정** (연교)\\n- **최우식** (기우)\\n- **박소담** (기정)\\n- **장혜진** (문광)\\n\\n### 예산\\n- 약 **150억 원** (약 1300만 달러)\\n\\n### 흥행 수익\\n- 전 세계적으로 약 **1,300억 원** (약 1억 1천만 달러) 이상의 수익을 올렸습니다.\\n\\n### 영화 장르\\n- 드라마, 스릴러, 블랙 코미디\\n\\n### 간단한 시놉시스\\n기생충은 가난한 김씨 가족이 부유한 박씨 가족의 집에 침투하면서 벌어지는 이야기를 다룹니다. 김씨 가족은 각자의 역할을 맡아 박씨 가족의 집에서 일하게 되며, 점차 그들의 삶에 깊숙이 개입하게 됩니다. 그러나 이들의 관계는 예상치 못한 사건으로 인해 급변하게 되고, 사회적 계층과 갈등을 심도 있게 탐구하는 내용입니다.\\n\\n### 수상 경력\\n기생충은 2020년 아카데미 시상식에서 작품상, 감독상, 국제 장편 영화상 등 4개 부문에서 수상하며 큰 화제를 모았습니다. 이로 인해 한국 영화의 위상을 높이는 데 기여했습니다. \\n\\n이 영화는 뛰어난 스토리와 연출, 그리고 사회적 메시지로 많은 찬사를 받았습니다.')"
      ]
     },
     "execution_count": 75,
     "metadata": {},
     "output_type": "execute_result"
    }
   ],
   "source": [
    "chain.invoke({\"movie\": \"Parasite\"})\n"
   ]
  },
  {
   "cell_type": "code",
   "execution_count": null,
   "metadata": {},
   "outputs": [],
   "source": []
  }
 ],
 "metadata": {
  "kernelspec": {
   "display_name": "env",
   "language": "python",
   "name": "python3"
  },
  "language_info": {
   "codemirror_mode": {
    "name": "ipython",
    "version": 3
   },
   "file_extension": ".py",
   "mimetype": "text/x-python",
   "name": "python",
   "nbconvert_exporter": "python",
   "pygments_lexer": "ipython3",
   "version": "3.11.9"
  }
 },
 "nbformat": 4,
 "nbformat_minor": 2
}
